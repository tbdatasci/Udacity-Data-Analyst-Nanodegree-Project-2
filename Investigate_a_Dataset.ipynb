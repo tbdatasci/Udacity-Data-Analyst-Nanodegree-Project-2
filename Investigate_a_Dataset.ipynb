{
 "cells": [
  {
   "cell_type": "markdown",
   "metadata": {},
   "source": [
    "# Project: The Global View of World Economies and Societies\n",
    "\n",
    "## Table of Contents\n",
    "<ul>\n",
    "<li><a href=\"#intro\">Introduction</a></li>\n",
    "<li><a href=\"#wrangling\">Data Wrangling</a></li>\n",
    "<li><a href=\"#eda\">Exploratory Data Analysis</a></li>\n",
    "<li><a href=\"#conclusions\">Conclusions</a></li>\n",
    "</ul>"
   ]
  },
  {
   "cell_type": "markdown",
   "metadata": {},
   "source": [
    "<a id='intro'></a>\n",
    "## Introduction\n",
    "\n",
    "For this project, I gathered data from GapMinder, which aggregates data from credible sources.  I elected to look at six metrics.\n",
    "\n",
    "1.  HDI (Human Development Index - an aggregate score from 0 to 1 of education, health care, and economy)\n",
    "2.  Life Expectancy\n",
    "3.  Children per mother\n",
    "4.  Democracy\n",
    "5.  CO2 emissions per person\n",
    "6.  Income per person with cost of living adjusted\n",
    "\n",
    "### Purpose\n",
    "\n",
    "\n",
    "Overall, the purpose of this was encompassed in two major analyses.  First, HDI and CO2 are examined with reference to the other metrics.  Secondly, changes from 1990 to 2011 are looked at with an emphasis on CO2. \n",
    "\n",
    "Specifically, I looked at 10 questions:\n",
    "\n",
    ">Q1a: How is income distributed throughout the world?\n",
    "\n",
    ">Q1b: How are CO2 emissions distributed throughout the world?\n",
    "\n",
    ">Q1c: How is HDI distributed throughout the world?\n",
    "\n",
    ">Q2: How does HDI relate to the other measures?\n",
    "\n",
    ">Q3: How does income relate to CO2 emissions per person?\n",
    "\n",
    ">Q4: Are CO2 emissions per person generally increasing or decreasing from 1990 to 2011?\n",
    "\n",
    ">Q5: Which country decreased their CO2 emissions per person the most from 1990 to 2011?\n",
    "\n",
    ">Q6: Which country increased their CO2 emissions per person the most from 1990 to 2011?\n",
    "\n",
    ">Q7: Which country decreased their income per person the most from 1990 to 2011?\n",
    "\n",
    ">Q8: Which country increased their income per person the most from 1990 to 2011?\n",
    "\n",
    ">Q9: Which country decreased their HDI the most from 1990 to 2011?\n",
    "\n",
    ">Q10: Which country increased their HDI the most from 1990 to 2011?"
   ]
  },
  {
   "cell_type": "markdown",
   "metadata": {},
   "source": [
    "<a id='wrangling'></a>\n",
    "## Data Wrangling\n",
    "\n",
    "\n",
    "### First, I input my import statements and pulled in all my data I downloaded as .csv from Gapminder"
   ]
  },
  {
   "cell_type": "code",
   "execution_count": 109,
   "metadata": {},
   "outputs": [],
   "source": [
    "import pandas as pd\n",
    "import numpy as np\n",
    "import matplotlib.pyplot as plt\n",
    "import seaborn as sns\n",
    "% matplotlib inline\n",
    "\n",
    "df_life = pd.read_csv('life_expectancy_years.csv')\n",
    "df_children = pd.read_csv('children_per_woman_total_fertility.csv')\n",
    "df_hdi = pd.read_csv('hdi_human_development_index.csv')\n",
    "df_democracy = pd.read_csv('democracy_score_use_as_color.csv')\n",
    "df_co2 = pd.read_csv('co2_emissions_tonnes_per_person.csv')\n",
    "df_income = pd.read_csv('income_per_person_gdppercapita_ppp_inflation_adjusted.csv')"
   ]
  },
  {
   "cell_type": "code",
   "execution_count": 110,
   "metadata": {
    "scrolled": true
   },
   "outputs": [
    {
     "data": {
      "text/html": [
       "<div>\n",
       "<style>\n",
       "    .dataframe thead tr:only-child th {\n",
       "        text-align: right;\n",
       "    }\n",
       "\n",
       "    .dataframe thead th {\n",
       "        text-align: left;\n",
       "    }\n",
       "\n",
       "    .dataframe tbody tr th {\n",
       "        vertical-align: top;\n",
       "    }\n",
       "</style>\n",
       "<table border=\"1\" class=\"dataframe\">\n",
       "  <thead>\n",
       "    <tr style=\"text-align: right;\">\n",
       "      <th></th>\n",
       "      <th>geo</th>\n",
       "      <th>1800</th>\n",
       "      <th>1801</th>\n",
       "      <th>1802</th>\n",
       "      <th>1803</th>\n",
       "      <th>1804</th>\n",
       "      <th>1805</th>\n",
       "      <th>1806</th>\n",
       "      <th>1807</th>\n",
       "      <th>1808</th>\n",
       "      <th>...</th>\n",
       "      <th>2009</th>\n",
       "      <th>2010</th>\n",
       "      <th>2011</th>\n",
       "      <th>2012</th>\n",
       "      <th>2013</th>\n",
       "      <th>2014</th>\n",
       "      <th>2015</th>\n",
       "      <th>2016</th>\n",
       "      <th>2017</th>\n",
       "      <th>2018</th>\n",
       "    </tr>\n",
       "  </thead>\n",
       "  <tbody>\n",
       "    <tr>\n",
       "      <th>0</th>\n",
       "      <td>Afghanistan</td>\n",
       "      <td>603</td>\n",
       "      <td>603</td>\n",
       "      <td>603</td>\n",
       "      <td>603</td>\n",
       "      <td>603</td>\n",
       "      <td>603</td>\n",
       "      <td>603</td>\n",
       "      <td>603</td>\n",
       "      <td>603</td>\n",
       "      <td>...</td>\n",
       "      <td>1530</td>\n",
       "      <td>1610</td>\n",
       "      <td>1660</td>\n",
       "      <td>1840</td>\n",
       "      <td>1810</td>\n",
       "      <td>1780</td>\n",
       "      <td>1750</td>\n",
       "      <td>1740</td>\n",
       "      <td>1800</td>\n",
       "      <td>1870</td>\n",
       "    </tr>\n",
       "    <tr>\n",
       "      <th>1</th>\n",
       "      <td>Albania</td>\n",
       "      <td>667</td>\n",
       "      <td>667</td>\n",
       "      <td>667</td>\n",
       "      <td>667</td>\n",
       "      <td>667</td>\n",
       "      <td>668</td>\n",
       "      <td>668</td>\n",
       "      <td>668</td>\n",
       "      <td>668</td>\n",
       "      <td>...</td>\n",
       "      <td>9530</td>\n",
       "      <td>9930</td>\n",
       "      <td>10200</td>\n",
       "      <td>10400</td>\n",
       "      <td>10500</td>\n",
       "      <td>10700</td>\n",
       "      <td>11000</td>\n",
       "      <td>11400</td>\n",
       "      <td>11900</td>\n",
       "      <td>12400</td>\n",
       "    </tr>\n",
       "    <tr>\n",
       "      <th>2</th>\n",
       "      <td>Algeria</td>\n",
       "      <td>715</td>\n",
       "      <td>716</td>\n",
       "      <td>717</td>\n",
       "      <td>718</td>\n",
       "      <td>719</td>\n",
       "      <td>720</td>\n",
       "      <td>721</td>\n",
       "      <td>722</td>\n",
       "      <td>723</td>\n",
       "      <td>...</td>\n",
       "      <td>12600</td>\n",
       "      <td>12900</td>\n",
       "      <td>13000</td>\n",
       "      <td>13200</td>\n",
       "      <td>13300</td>\n",
       "      <td>13500</td>\n",
       "      <td>13700</td>\n",
       "      <td>14000</td>\n",
       "      <td>13800</td>\n",
       "      <td>13700</td>\n",
       "    </tr>\n",
       "    <tr>\n",
       "      <th>3</th>\n",
       "      <td>Andorra</td>\n",
       "      <td>1200</td>\n",
       "      <td>1200</td>\n",
       "      <td>1200</td>\n",
       "      <td>1200</td>\n",
       "      <td>1210</td>\n",
       "      <td>1210</td>\n",
       "      <td>1210</td>\n",
       "      <td>1210</td>\n",
       "      <td>1220</td>\n",
       "      <td>...</td>\n",
       "      <td>41700</td>\n",
       "      <td>39000</td>\n",
       "      <td>42000</td>\n",
       "      <td>41900</td>\n",
       "      <td>43700</td>\n",
       "      <td>44900</td>\n",
       "      <td>46600</td>\n",
       "      <td>48200</td>\n",
       "      <td>49800</td>\n",
       "      <td>51500</td>\n",
       "    </tr>\n",
       "    <tr>\n",
       "      <th>4</th>\n",
       "      <td>Angola</td>\n",
       "      <td>618</td>\n",
       "      <td>620</td>\n",
       "      <td>623</td>\n",
       "      <td>626</td>\n",
       "      <td>628</td>\n",
       "      <td>631</td>\n",
       "      <td>634</td>\n",
       "      <td>637</td>\n",
       "      <td>640</td>\n",
       "      <td>...</td>\n",
       "      <td>5910</td>\n",
       "      <td>5900</td>\n",
       "      <td>5910</td>\n",
       "      <td>6000</td>\n",
       "      <td>6190</td>\n",
       "      <td>6260</td>\n",
       "      <td>6230</td>\n",
       "      <td>6030</td>\n",
       "      <td>5940</td>\n",
       "      <td>5850</td>\n",
       "    </tr>\n",
       "  </tbody>\n",
       "</table>\n",
       "<p>5 rows × 220 columns</p>\n",
       "</div>"
      ],
      "text/plain": [
       "           geo  1800  1801  1802  1803  1804  1805  1806  1807  1808  ...    \\\n",
       "0  Afghanistan   603   603   603   603   603   603   603   603   603  ...     \n",
       "1      Albania   667   667   667   667   667   668   668   668   668  ...     \n",
       "2      Algeria   715   716   717   718   719   720   721   722   723  ...     \n",
       "3      Andorra  1200  1200  1200  1200  1210  1210  1210  1210  1220  ...     \n",
       "4       Angola   618   620   623   626   628   631   634   637   640  ...     \n",
       "\n",
       "    2009   2010   2011   2012   2013   2014   2015   2016   2017   2018  \n",
       "0   1530   1610   1660   1840   1810   1780   1750   1740   1800   1870  \n",
       "1   9530   9930  10200  10400  10500  10700  11000  11400  11900  12400  \n",
       "2  12600  12900  13000  13200  13300  13500  13700  14000  13800  13700  \n",
       "3  41700  39000  42000  41900  43700  44900  46600  48200  49800  51500  \n",
       "4   5910   5900   5910   6000   6190   6260   6230   6030   5940   5850  \n",
       "\n",
       "[5 rows x 220 columns]"
      ]
     },
     "execution_count": 110,
     "metadata": {},
     "output_type": "execute_result"
    }
   ],
   "source": [
    "df_income.head()"
   ]
  },
  {
   "cell_type": "code",
   "execution_count": 112,
   "metadata": {
    "scrolled": true
   },
   "outputs": [
    {
     "data": {
      "text/html": [
       "<div>\n",
       "<style>\n",
       "    .dataframe thead tr:only-child th {\n",
       "        text-align: right;\n",
       "    }\n",
       "\n",
       "    .dataframe thead th {\n",
       "        text-align: left;\n",
       "    }\n",
       "\n",
       "    .dataframe tbody tr th {\n",
       "        vertical-align: top;\n",
       "    }\n",
       "</style>\n",
       "<table border=\"1\" class=\"dataframe\">\n",
       "  <thead>\n",
       "    <tr style=\"text-align: right;\">\n",
       "      <th></th>\n",
       "      <th>geo</th>\n",
       "      <th>1990</th>\n",
       "      <th>1991</th>\n",
       "      <th>1992</th>\n",
       "      <th>1993</th>\n",
       "      <th>1994</th>\n",
       "      <th>1995</th>\n",
       "      <th>1996</th>\n",
       "      <th>1997</th>\n",
       "      <th>1998</th>\n",
       "      <th>...</th>\n",
       "      <th>2006</th>\n",
       "      <th>2007</th>\n",
       "      <th>2008</th>\n",
       "      <th>2009</th>\n",
       "      <th>2010</th>\n",
       "      <th>2011</th>\n",
       "      <th>2012</th>\n",
       "      <th>2013</th>\n",
       "      <th>2014</th>\n",
       "      <th>2015</th>\n",
       "    </tr>\n",
       "  </thead>\n",
       "  <tbody>\n",
       "    <tr>\n",
       "      <th>0</th>\n",
       "      <td>Afghanistan</td>\n",
       "      <td>0.295</td>\n",
       "      <td>0.300</td>\n",
       "      <td>0.309</td>\n",
       "      <td>0.305</td>\n",
       "      <td>0.300</td>\n",
       "      <td>0.324</td>\n",
       "      <td>0.328</td>\n",
       "      <td>0.332</td>\n",
       "      <td>0.335</td>\n",
       "      <td>...</td>\n",
       "      <td>0.415</td>\n",
       "      <td>0.433</td>\n",
       "      <td>0.434</td>\n",
       "      <td>0.448</td>\n",
       "      <td>0.454</td>\n",
       "      <td>0.463</td>\n",
       "      <td>0.470</td>\n",
       "      <td>0.476</td>\n",
       "      <td>0.479</td>\n",
       "      <td>0.479</td>\n",
       "    </tr>\n",
       "    <tr>\n",
       "      <th>1</th>\n",
       "      <td>Albania</td>\n",
       "      <td>0.635</td>\n",
       "      <td>0.618</td>\n",
       "      <td>0.603</td>\n",
       "      <td>0.608</td>\n",
       "      <td>0.616</td>\n",
       "      <td>0.628</td>\n",
       "      <td>0.637</td>\n",
       "      <td>0.636</td>\n",
       "      <td>0.646</td>\n",
       "      <td>...</td>\n",
       "      <td>0.703</td>\n",
       "      <td>0.713</td>\n",
       "      <td>0.721</td>\n",
       "      <td>0.725</td>\n",
       "      <td>0.738</td>\n",
       "      <td>0.752</td>\n",
       "      <td>0.759</td>\n",
       "      <td>0.761</td>\n",
       "      <td>0.762</td>\n",
       "      <td>0.764</td>\n",
       "    </tr>\n",
       "    <tr>\n",
       "      <th>2</th>\n",
       "      <td>Algeria</td>\n",
       "      <td>0.577</td>\n",
       "      <td>0.581</td>\n",
       "      <td>0.587</td>\n",
       "      <td>0.591</td>\n",
       "      <td>0.595</td>\n",
       "      <td>0.600</td>\n",
       "      <td>0.609</td>\n",
       "      <td>0.617</td>\n",
       "      <td>0.627</td>\n",
       "      <td>...</td>\n",
       "      <td>0.690</td>\n",
       "      <td>0.697</td>\n",
       "      <td>0.705</td>\n",
       "      <td>0.714</td>\n",
       "      <td>0.724</td>\n",
       "      <td>0.732</td>\n",
       "      <td>0.737</td>\n",
       "      <td>0.741</td>\n",
       "      <td>0.743</td>\n",
       "      <td>0.745</td>\n",
       "    </tr>\n",
       "    <tr>\n",
       "      <th>3</th>\n",
       "      <td>Andorra</td>\n",
       "      <td>NaN</td>\n",
       "      <td>NaN</td>\n",
       "      <td>NaN</td>\n",
       "      <td>NaN</td>\n",
       "      <td>NaN</td>\n",
       "      <td>NaN</td>\n",
       "      <td>NaN</td>\n",
       "      <td>NaN</td>\n",
       "      <td>NaN</td>\n",
       "      <td>...</td>\n",
       "      <td>NaN</td>\n",
       "      <td>NaN</td>\n",
       "      <td>NaN</td>\n",
       "      <td>NaN</td>\n",
       "      <td>0.819</td>\n",
       "      <td>0.819</td>\n",
       "      <td>0.843</td>\n",
       "      <td>0.850</td>\n",
       "      <td>0.857</td>\n",
       "      <td>0.858</td>\n",
       "    </tr>\n",
       "    <tr>\n",
       "      <th>4</th>\n",
       "      <td>Angola</td>\n",
       "      <td>NaN</td>\n",
       "      <td>NaN</td>\n",
       "      <td>NaN</td>\n",
       "      <td>NaN</td>\n",
       "      <td>NaN</td>\n",
       "      <td>NaN</td>\n",
       "      <td>NaN</td>\n",
       "      <td>NaN</td>\n",
       "      <td>NaN</td>\n",
       "      <td>...</td>\n",
       "      <td>0.454</td>\n",
       "      <td>0.468</td>\n",
       "      <td>0.480</td>\n",
       "      <td>0.488</td>\n",
       "      <td>0.495</td>\n",
       "      <td>0.508</td>\n",
       "      <td>0.523</td>\n",
       "      <td>0.527</td>\n",
       "      <td>0.531</td>\n",
       "      <td>0.533</td>\n",
       "    </tr>\n",
       "  </tbody>\n",
       "</table>\n",
       "<p>5 rows × 27 columns</p>\n",
       "</div>"
      ],
      "text/plain": [
       "           geo   1990   1991   1992   1993   1994   1995   1996   1997   1998  \\\n",
       "0  Afghanistan  0.295  0.300  0.309  0.305  0.300  0.324  0.328  0.332  0.335   \n",
       "1      Albania  0.635  0.618  0.603  0.608  0.616  0.628  0.637  0.636  0.646   \n",
       "2      Algeria  0.577  0.581  0.587  0.591  0.595  0.600  0.609  0.617  0.627   \n",
       "3      Andorra    NaN    NaN    NaN    NaN    NaN    NaN    NaN    NaN    NaN   \n",
       "4       Angola    NaN    NaN    NaN    NaN    NaN    NaN    NaN    NaN    NaN   \n",
       "\n",
       "   ...     2006   2007   2008   2009   2010   2011   2012   2013   2014   2015  \n",
       "0  ...    0.415  0.433  0.434  0.448  0.454  0.463  0.470  0.476  0.479  0.479  \n",
       "1  ...    0.703  0.713  0.721  0.725  0.738  0.752  0.759  0.761  0.762  0.764  \n",
       "2  ...    0.690  0.697  0.705  0.714  0.724  0.732  0.737  0.741  0.743  0.745  \n",
       "3  ...      NaN    NaN    NaN    NaN  0.819  0.819  0.843  0.850  0.857  0.858  \n",
       "4  ...    0.454  0.468  0.480  0.488  0.495  0.508  0.523  0.527  0.531  0.533  \n",
       "\n",
       "[5 rows x 27 columns]"
      ]
     },
     "execution_count": 112,
     "metadata": {},
     "output_type": "execute_result"
    }
   ],
   "source": [
    "df_hdi.head()"
   ]
  },
  {
   "cell_type": "markdown",
   "metadata": {},
   "source": [
    "### Data Cleaning"
   ]
  },
  {
   "cell_type": "markdown",
   "metadata": {},
   "source": [
    "I realize at this point that my datasets have varying numbers of years within them, so I choose to only include the years 1990 to 2011.  These are the only dates that overlap between the six datasets I got from GapMinder.\n",
    "\n",
    "Additionally, I need to retain \"geo\" as a column header for later merges."
   ]
  },
  {
   "cell_type": "code",
   "execution_count": 113,
   "metadata": {},
   "outputs": [],
   "source": [
    "# only choose 1990 to 2011 in all datasets\n",
    "#df_income[['geo','1991','1992']]\n",
    "df_life = df_life[['geo','1990','1991','1992','1993','1994','1995','1996','1997','1998','1999','2000','2001',\n",
    "                  '2002','2003','2004','2005','2006','2007','2008','2009','2010','2011']]\n",
    "df_children = df_children[['geo','1990','1991','1992','1993','1994','1995','1996','1997','1998','1999','2000','2001',\n",
    "                  '2002','2003','2004','2005','2006','2007','2008','2009','2010','2011']]\n",
    "df_hdi = df_hdi[['geo','1990','1991','1992','1993','1994','1995','1996','1997','1998','1999','2000','2001',\n",
    "                  '2002','2003','2004','2005','2006','2007','2008','2009','2010','2011']]\n",
    "df_democracy = df_democracy[['geo','1990','1991','1992','1993','1994','1995','1996','1997','1998','1999','2000','2001',\n",
    "                  '2002','2003','2004','2005','2006','2007','2008','2009','2010','2011']]\n",
    "df_co2 = df_co2[['geo','1990','1991','1992','1993','1994','1995','1996','1997','1998','1999','2000','2001',\n",
    "                  '2002','2003','2004','2005','2006','2007','2008','2009','2010','2011']]\n",
    "df_income = df_income[['geo','1990','1991','1992','1993','1994','1995','1996','1997','1998','1999','2000','2001',\n",
    "                  '2002','2003','2004','2005','2006','2007','2008','2009','2010','2011']]\n",
    "\n",
    "#df_children = df_children.groupby('geo')['geo','1990','1991','1992','1993','1994','1995','1996','1997','1998','1999','2000','2001',\n",
    "#                       '2002','2003','2004','2005','2006','2007','2008','2009','2010','2011'].mean()\n",
    "#df_hdi = df_hdi.groupby('geo')['geo','1990','1991','1992','1993','1994','1995','1996','1997','1998','1999','2000','2001',\n",
    "#                       '2002','2003','2004','2005','2006','2007','2008','2009','2010','2011'].mean()\n",
    "#df_democracy = df_democracy.groupby('geo')['geo','1990','1991','1992','1993','1994','1995','1996','1997','1998','1999','2000','2001',\n",
    "#                       '2002','2003','2004','2005','2006','2007','2008','2009','2010','2011'].mean()\n",
    "#df_co2 = df_co2.groupby('geo')['geo','1990','1991','1992','1993','1994','1995','1996','1997','1998','1999','2000','2001',\n",
    "#                       '2002','2003','2004','2005','2006','2007','2008','2009','2010','2011'].mean()\n",
    "#df_income = df_income.groupby('geo')['geo','1990','1991','1992','1993','1994','1995','1996','1997','1998','1999','2000','2001',\n",
    "#                       '2002','2003','2004','2005','2006','2007','2008','2009','2010','2011'].mean();"
   ]
  },
  {
   "cell_type": "code",
   "execution_count": 116,
   "metadata": {
    "scrolled": true
   },
   "outputs": [
    {
     "data": {
      "text/html": [
       "<div>\n",
       "<style>\n",
       "    .dataframe thead tr:only-child th {\n",
       "        text-align: right;\n",
       "    }\n",
       "\n",
       "    .dataframe thead th {\n",
       "        text-align: left;\n",
       "    }\n",
       "\n",
       "    .dataframe tbody tr th {\n",
       "        vertical-align: top;\n",
       "    }\n",
       "</style>\n",
       "<table border=\"1\" class=\"dataframe\">\n",
       "  <thead>\n",
       "    <tr style=\"text-align: right;\">\n",
       "      <th></th>\n",
       "      <th>geo</th>\n",
       "      <th>1990</th>\n",
       "      <th>1991</th>\n",
       "      <th>1992</th>\n",
       "      <th>1993</th>\n",
       "      <th>1994</th>\n",
       "      <th>1995</th>\n",
       "      <th>1996</th>\n",
       "      <th>1997</th>\n",
       "      <th>1998</th>\n",
       "      <th>...</th>\n",
       "      <th>2002</th>\n",
       "      <th>2003</th>\n",
       "      <th>2004</th>\n",
       "      <th>2005</th>\n",
       "      <th>2006</th>\n",
       "      <th>2007</th>\n",
       "      <th>2008</th>\n",
       "      <th>2009</th>\n",
       "      <th>2010</th>\n",
       "      <th>2011</th>\n",
       "    </tr>\n",
       "  </thead>\n",
       "  <tbody>\n",
       "    <tr>\n",
       "      <th>0</th>\n",
       "      <td>Afghanistan</td>\n",
       "      <td>1040</td>\n",
       "      <td>1030</td>\n",
       "      <td>950</td>\n",
       "      <td>818</td>\n",
       "      <td>732</td>\n",
       "      <td>881</td>\n",
       "      <td>904</td>\n",
       "      <td>930</td>\n",
       "      <td>956</td>\n",
       "      <td>...</td>\n",
       "      <td>1060</td>\n",
       "      <td>1100</td>\n",
       "      <td>1060</td>\n",
       "      <td>1140</td>\n",
       "      <td>1160</td>\n",
       "      <td>1290</td>\n",
       "      <td>1300</td>\n",
       "      <td>1530</td>\n",
       "      <td>1610</td>\n",
       "      <td>1660</td>\n",
       "    </tr>\n",
       "    <tr>\n",
       "      <th>1</th>\n",
       "      <td>Albania</td>\n",
       "      <td>4560</td>\n",
       "      <td>3230</td>\n",
       "      <td>3010</td>\n",
       "      <td>3320</td>\n",
       "      <td>3620</td>\n",
       "      <td>4130</td>\n",
       "      <td>4530</td>\n",
       "      <td>4070</td>\n",
       "      <td>4460</td>\n",
       "      <td>...</td>\n",
       "      <td>6230</td>\n",
       "      <td>6620</td>\n",
       "      <td>7020</td>\n",
       "      <td>7460</td>\n",
       "      <td>7920</td>\n",
       "      <td>8450</td>\n",
       "      <td>9150</td>\n",
       "      <td>9530</td>\n",
       "      <td>9930</td>\n",
       "      <td>10200</td>\n",
       "    </tr>\n",
       "    <tr>\n",
       "      <th>2</th>\n",
       "      <td>Algeria</td>\n",
       "      <td>10200</td>\n",
       "      <td>9870</td>\n",
       "      <td>9820</td>\n",
       "      <td>9400</td>\n",
       "      <td>9130</td>\n",
       "      <td>9300</td>\n",
       "      <td>9510</td>\n",
       "      <td>9460</td>\n",
       "      <td>9800</td>\n",
       "      <td>...</td>\n",
       "      <td>10800</td>\n",
       "      <td>11500</td>\n",
       "      <td>11800</td>\n",
       "      <td>12300</td>\n",
       "      <td>12300</td>\n",
       "      <td>12600</td>\n",
       "      <td>12700</td>\n",
       "      <td>12600</td>\n",
       "      <td>12900</td>\n",
       "      <td>13000</td>\n",
       "    </tr>\n",
       "    <tr>\n",
       "      <th>3</th>\n",
       "      <td>Andorra</td>\n",
       "      <td>28400</td>\n",
       "      <td>28000</td>\n",
       "      <td>27200</td>\n",
       "      <td>26000</td>\n",
       "      <td>25900</td>\n",
       "      <td>26100</td>\n",
       "      <td>27200</td>\n",
       "      <td>29700</td>\n",
       "      <td>30800</td>\n",
       "      <td>...</td>\n",
       "      <td>31900</td>\n",
       "      <td>34500</td>\n",
       "      <td>36300</td>\n",
       "      <td>39800</td>\n",
       "      <td>42700</td>\n",
       "      <td>43400</td>\n",
       "      <td>41400</td>\n",
       "      <td>41700</td>\n",
       "      <td>39000</td>\n",
       "      <td>42000</td>\n",
       "    </tr>\n",
       "    <tr>\n",
       "      <th>4</th>\n",
       "      <td>Angola</td>\n",
       "      <td>4390</td>\n",
       "      <td>4210</td>\n",
       "      <td>3790</td>\n",
       "      <td>2760</td>\n",
       "      <td>2770</td>\n",
       "      <td>2970</td>\n",
       "      <td>3210</td>\n",
       "      <td>3370</td>\n",
       "      <td>3500</td>\n",
       "      <td>...</td>\n",
       "      <td>3180</td>\n",
       "      <td>3240</td>\n",
       "      <td>3460</td>\n",
       "      <td>3950</td>\n",
       "      <td>4600</td>\n",
       "      <td>5440</td>\n",
       "      <td>5980</td>\n",
       "      <td>5910</td>\n",
       "      <td>5900</td>\n",
       "      <td>5910</td>\n",
       "    </tr>\n",
       "  </tbody>\n",
       "</table>\n",
       "<p>5 rows × 23 columns</p>\n",
       "</div>"
      ],
      "text/plain": [
       "           geo   1990   1991   1992   1993   1994   1995   1996   1997   1998  \\\n",
       "0  Afghanistan   1040   1030    950    818    732    881    904    930    956   \n",
       "1      Albania   4560   3230   3010   3320   3620   4130   4530   4070   4460   \n",
       "2      Algeria  10200   9870   9820   9400   9130   9300   9510   9460   9800   \n",
       "3      Andorra  28400  28000  27200  26000  25900  26100  27200  29700  30800   \n",
       "4       Angola   4390   4210   3790   2760   2770   2970   3210   3370   3500   \n",
       "\n",
       "   ...     2002   2003   2004   2005   2006   2007   2008   2009   2010   2011  \n",
       "0  ...     1060   1100   1060   1140   1160   1290   1300   1530   1610   1660  \n",
       "1  ...     6230   6620   7020   7460   7920   8450   9150   9530   9930  10200  \n",
       "2  ...    10800  11500  11800  12300  12300  12600  12700  12600  12900  13000  \n",
       "3  ...    31900  34500  36300  39800  42700  43400  41400  41700  39000  42000  \n",
       "4  ...     3180   3240   3460   3950   4600   5440   5980   5910   5900   5910  \n",
       "\n",
       "[5 rows x 23 columns]"
      ]
     },
     "execution_count": 116,
     "metadata": {},
     "output_type": "execute_result"
    }
   ],
   "source": [
    "df_income.head()"
   ]
  },
  {
   "cell_type": "markdown",
   "metadata": {},
   "source": [
    "I note that although I only have overlapping years in these datasets now, I still have some null values I will have to deal with later.\n",
    "\n",
    "Now, I prepare to merge the datasets by renaming the column headers\n",
    "\n",
    "### Merge Data - Rename Headers"
   ]
  },
  {
   "cell_type": "code",
   "execution_count": 117,
   "metadata": {},
   "outputs": [],
   "source": [
    "# rename life columns\n",
    "df_life = df_life.rename(columns=lambda x: x[:10] + \"_life\")\n",
    "\n",
    "# rename children columns\n",
    "df_children = df_children.rename(columns=lambda x: x[:10] + \"_children\")\n",
    "\n",
    "# rename hdi columns\n",
    "df_hdi = df_hdi.rename(columns=lambda x: x[:10] + \"_hdi\")\n",
    "\n",
    "# rename democracy columns\n",
    "df_democracy = df_democracy.rename(columns=lambda x: x[:10] + \"_democracy\")\n",
    "\n",
    "# rename co2 columns\n",
    "df_co2 = df_co2.rename(columns=lambda x: x[:10] + \"_co2\")\n",
    "\n",
    "# rename income columns\n",
    "df_income = df_income.rename(columns=lambda x: x[:10] + \"_income\")"
   ]
  },
  {
   "cell_type": "code",
   "execution_count": 118,
   "metadata": {
    "scrolled": true
   },
   "outputs": [
    {
     "data": {
      "text/html": [
       "<div>\n",
       "<style>\n",
       "    .dataframe thead tr:only-child th {\n",
       "        text-align: right;\n",
       "    }\n",
       "\n",
       "    .dataframe thead th {\n",
       "        text-align: left;\n",
       "    }\n",
       "\n",
       "    .dataframe tbody tr th {\n",
       "        vertical-align: top;\n",
       "    }\n",
       "</style>\n",
       "<table border=\"1\" class=\"dataframe\">\n",
       "  <thead>\n",
       "    <tr style=\"text-align: right;\">\n",
       "      <th></th>\n",
       "      <th>geo_life</th>\n",
       "      <th>1990_life</th>\n",
       "      <th>1991_life</th>\n",
       "      <th>1992_life</th>\n",
       "      <th>1993_life</th>\n",
       "      <th>1994_life</th>\n",
       "      <th>1995_life</th>\n",
       "      <th>1996_life</th>\n",
       "      <th>1997_life</th>\n",
       "      <th>1998_life</th>\n",
       "      <th>...</th>\n",
       "      <th>2002_life</th>\n",
       "      <th>2003_life</th>\n",
       "      <th>2004_life</th>\n",
       "      <th>2005_life</th>\n",
       "      <th>2006_life</th>\n",
       "      <th>2007_life</th>\n",
       "      <th>2008_life</th>\n",
       "      <th>2009_life</th>\n",
       "      <th>2010_life</th>\n",
       "      <th>2011_life</th>\n",
       "    </tr>\n",
       "  </thead>\n",
       "  <tbody>\n",
       "    <tr>\n",
       "      <th>0</th>\n",
       "      <td>Afghanistan</td>\n",
       "      <td>51.6</td>\n",
       "      <td>51.3</td>\n",
       "      <td>51.4</td>\n",
       "      <td>51.4</td>\n",
       "      <td>50.7</td>\n",
       "      <td>51.1</td>\n",
       "      <td>51.4</td>\n",
       "      <td>51.1</td>\n",
       "      <td>50.1</td>\n",
       "      <td>...</td>\n",
       "      <td>52.4</td>\n",
       "      <td>53.0</td>\n",
       "      <td>53.5</td>\n",
       "      <td>53.9</td>\n",
       "      <td>54.1</td>\n",
       "      <td>54.6</td>\n",
       "      <td>55.2</td>\n",
       "      <td>55.7</td>\n",
       "      <td>56.2</td>\n",
       "      <td>56.7</td>\n",
       "    </tr>\n",
       "    <tr>\n",
       "      <th>1</th>\n",
       "      <td>Albania</td>\n",
       "      <td>73.9</td>\n",
       "      <td>73.9</td>\n",
       "      <td>73.9</td>\n",
       "      <td>73.9</td>\n",
       "      <td>74.0</td>\n",
       "      <td>74.1</td>\n",
       "      <td>74.3</td>\n",
       "      <td>72.5</td>\n",
       "      <td>74.3</td>\n",
       "      <td>...</td>\n",
       "      <td>74.5</td>\n",
       "      <td>74.6</td>\n",
       "      <td>74.7</td>\n",
       "      <td>74.9</td>\n",
       "      <td>75.2</td>\n",
       "      <td>75.4</td>\n",
       "      <td>75.6</td>\n",
       "      <td>75.9</td>\n",
       "      <td>76.3</td>\n",
       "      <td>76.7</td>\n",
       "    </tr>\n",
       "    <tr>\n",
       "      <th>2</th>\n",
       "      <td>Algeria</td>\n",
       "      <td>71.0</td>\n",
       "      <td>71.4</td>\n",
       "      <td>71.7</td>\n",
       "      <td>72.0</td>\n",
       "      <td>72.1</td>\n",
       "      <td>72.3</td>\n",
       "      <td>72.8</td>\n",
       "      <td>73.0</td>\n",
       "      <td>73.1</td>\n",
       "      <td>...</td>\n",
       "      <td>74.4</td>\n",
       "      <td>74.5</td>\n",
       "      <td>75.1</td>\n",
       "      <td>75.4</td>\n",
       "      <td>75.6</td>\n",
       "      <td>75.9</td>\n",
       "      <td>76.1</td>\n",
       "      <td>76.3</td>\n",
       "      <td>76.5</td>\n",
       "      <td>76.7</td>\n",
       "    </tr>\n",
       "    <tr>\n",
       "      <th>3</th>\n",
       "      <td>Andorra</td>\n",
       "      <td>79.5</td>\n",
       "      <td>79.5</td>\n",
       "      <td>79.6</td>\n",
       "      <td>79.8</td>\n",
       "      <td>80.0</td>\n",
       "      <td>80.3</td>\n",
       "      <td>80.6</td>\n",
       "      <td>81.0</td>\n",
       "      <td>81.3</td>\n",
       "      <td>...</td>\n",
       "      <td>82.3</td>\n",
       "      <td>82.4</td>\n",
       "      <td>82.3</td>\n",
       "      <td>82.5</td>\n",
       "      <td>82.5</td>\n",
       "      <td>82.7</td>\n",
       "      <td>82.7</td>\n",
       "      <td>82.7</td>\n",
       "      <td>82.7</td>\n",
       "      <td>82.6</td>\n",
       "    </tr>\n",
       "    <tr>\n",
       "      <th>4</th>\n",
       "      <td>Angola</td>\n",
       "      <td>50.2</td>\n",
       "      <td>50.8</td>\n",
       "      <td>51.0</td>\n",
       "      <td>49.7</td>\n",
       "      <td>51.1</td>\n",
       "      <td>52.0</td>\n",
       "      <td>52.3</td>\n",
       "      <td>52.7</td>\n",
       "      <td>52.8</td>\n",
       "      <td>...</td>\n",
       "      <td>54.5</td>\n",
       "      <td>55.1</td>\n",
       "      <td>55.7</td>\n",
       "      <td>56.5</td>\n",
       "      <td>57.0</td>\n",
       "      <td>57.8</td>\n",
       "      <td>58.6</td>\n",
       "      <td>59.3</td>\n",
       "      <td>60.1</td>\n",
       "      <td>60.9</td>\n",
       "    </tr>\n",
       "  </tbody>\n",
       "</table>\n",
       "<p>5 rows × 23 columns</p>\n",
       "</div>"
      ],
      "text/plain": [
       "      geo_life  1990_life  1991_life  1992_life  1993_life  1994_life  \\\n",
       "0  Afghanistan       51.6       51.3       51.4       51.4       50.7   \n",
       "1      Albania       73.9       73.9       73.9       73.9       74.0   \n",
       "2      Algeria       71.0       71.4       71.7       72.0       72.1   \n",
       "3      Andorra       79.5       79.5       79.6       79.8       80.0   \n",
       "4       Angola       50.2       50.8       51.0       49.7       51.1   \n",
       "\n",
       "   1995_life  1996_life  1997_life  1998_life    ...      2002_life  \\\n",
       "0       51.1       51.4       51.1       50.1    ...           52.4   \n",
       "1       74.1       74.3       72.5       74.3    ...           74.5   \n",
       "2       72.3       72.8       73.0       73.1    ...           74.4   \n",
       "3       80.3       80.6       81.0       81.3    ...           82.3   \n",
       "4       52.0       52.3       52.7       52.8    ...           54.5   \n",
       "\n",
       "   2003_life  2004_life  2005_life  2006_life  2007_life  2008_life  \\\n",
       "0       53.0       53.5       53.9       54.1       54.6       55.2   \n",
       "1       74.6       74.7       74.9       75.2       75.4       75.6   \n",
       "2       74.5       75.1       75.4       75.6       75.9       76.1   \n",
       "3       82.4       82.3       82.5       82.5       82.7       82.7   \n",
       "4       55.1       55.7       56.5       57.0       57.8       58.6   \n",
       "\n",
       "   2009_life  2010_life  2011_life  \n",
       "0       55.7       56.2       56.7  \n",
       "1       75.9       76.3       76.7  \n",
       "2       76.3       76.5       76.7  \n",
       "3       82.7       82.7       82.6  \n",
       "4       59.3       60.1       60.9  \n",
       "\n",
       "[5 rows x 23 columns]"
      ]
     },
     "execution_count": 118,
     "metadata": {},
     "output_type": "execute_result"
    }
   ],
   "source": [
    "df_life.head()"
   ]
  },
  {
   "cell_type": "markdown",
   "metadata": {},
   "source": [
    "### Fill N/A values with averages of given country in given metric for years 1990 to 2011\n",
    "\n",
    "I fix null values in all of these datasets prior to merging so when I fill averages, they are specific to only hdi, only co2, only income, etc."
   ]
  },
  {
   "cell_type": "code",
   "execution_count": 119,
   "metadata": {},
   "outputs": [],
   "source": [
    "# fill na for life columns\n",
    "df_life = df_life.T.fillna(df_life.mean(axis=1)).T\n",
    "\n",
    "# fill na for children columns\n",
    "df_children = df_children.T.fillna(df_children.mean(axis=1)).T\n",
    "\n",
    "# fill na for hdi columns\n",
    "df_hdi = df_hdi.T.fillna(df_hdi.mean(axis=1)).T\n",
    "\n",
    "# fill na for democracy columns\n",
    "df_democracy = df_democracy.T.fillna(df_democracy.mean(axis=1)).T\n",
    "\n",
    "# fill na for co2 columns\n",
    "df_co2 = df_co2.T.fillna(df_co2.mean(axis=1)).T\n",
    "\n",
    "# fill na for income columns\n",
    "df_income = df_income.T.fillna(df_income.mean(axis=1)).T"
   ]
  },
  {
   "cell_type": "markdown",
   "metadata": {},
   "source": [
    "Despite filling all null values, a country in co2 and democracy has no values.  So, I'll address that later by dropping out rows with null values once all datasets are merged"
   ]
  },
  {
   "cell_type": "markdown",
   "metadata": {},
   "source": [
    "### Merge Data Sets"
   ]
  },
  {
   "cell_type": "code",
   "execution_count": 120,
   "metadata": {},
   "outputs": [],
   "source": [
    "# merge life and children\n",
    "df_combined = pd.merge(df_life, df_children, left_on='geo_life', right_on='geo_children')\n",
    "\n",
    "# merge life+children with hdi\n",
    "df_combined = pd.merge(df_combined, df_hdi, left_on='geo_life', right_on='geo_hdi')\n",
    "\n",
    "# merge life+children+hdi with democracy\n",
    "df_combined = pd.merge(df_combined, df_democracy, left_on='geo_life', right_on='geo_democracy')\n",
    "\n",
    "# merge life+children+hdi+democracy with co2\n",
    "df_combined = pd.merge(df_combined, df_co2, left_on='geo_life', right_on='geo_co2')\n",
    "\n",
    "# merge life+children+hdi+democracy with income\n",
    "df_combined = pd.merge(df_combined, df_income, left_on='geo_life', right_on='geo_income')"
   ]
  },
  {
   "cell_type": "code",
   "execution_count": 121,
   "metadata": {},
   "outputs": [
    {
     "data": {
      "text/html": [
       "<div>\n",
       "<style>\n",
       "    .dataframe thead tr:only-child th {\n",
       "        text-align: right;\n",
       "    }\n",
       "\n",
       "    .dataframe thead th {\n",
       "        text-align: left;\n",
       "    }\n",
       "\n",
       "    .dataframe tbody tr th {\n",
       "        vertical-align: top;\n",
       "    }\n",
       "</style>\n",
       "<table border=\"1\" class=\"dataframe\">\n",
       "  <thead>\n",
       "    <tr style=\"text-align: right;\">\n",
       "      <th></th>\n",
       "      <th>geo_life</th>\n",
       "      <th>1990_life</th>\n",
       "      <th>1991_life</th>\n",
       "      <th>1992_life</th>\n",
       "      <th>1993_life</th>\n",
       "      <th>1994_life</th>\n",
       "      <th>1995_life</th>\n",
       "      <th>1996_life</th>\n",
       "      <th>1997_life</th>\n",
       "      <th>1998_life</th>\n",
       "      <th>...</th>\n",
       "      <th>2002_income</th>\n",
       "      <th>2003_income</th>\n",
       "      <th>2004_income</th>\n",
       "      <th>2005_income</th>\n",
       "      <th>2006_income</th>\n",
       "      <th>2007_income</th>\n",
       "      <th>2008_income</th>\n",
       "      <th>2009_income</th>\n",
       "      <th>2010_income</th>\n",
       "      <th>2011_income</th>\n",
       "    </tr>\n",
       "  </thead>\n",
       "  <tbody>\n",
       "    <tr>\n",
       "      <th>0</th>\n",
       "      <td>Afghanistan</td>\n",
       "      <td>51.6</td>\n",
       "      <td>51.3</td>\n",
       "      <td>51.4</td>\n",
       "      <td>51.4</td>\n",
       "      <td>50.7</td>\n",
       "      <td>51.1</td>\n",
       "      <td>51.4</td>\n",
       "      <td>51.1</td>\n",
       "      <td>50.1</td>\n",
       "      <td>...</td>\n",
       "      <td>1060</td>\n",
       "      <td>1100</td>\n",
       "      <td>1060</td>\n",
       "      <td>1140</td>\n",
       "      <td>1160</td>\n",
       "      <td>1290</td>\n",
       "      <td>1300</td>\n",
       "      <td>1530</td>\n",
       "      <td>1610</td>\n",
       "      <td>1660</td>\n",
       "    </tr>\n",
       "    <tr>\n",
       "      <th>1</th>\n",
       "      <td>Albania</td>\n",
       "      <td>73.9</td>\n",
       "      <td>73.9</td>\n",
       "      <td>73.9</td>\n",
       "      <td>73.9</td>\n",
       "      <td>74</td>\n",
       "      <td>74.1</td>\n",
       "      <td>74.3</td>\n",
       "      <td>72.5</td>\n",
       "      <td>74.3</td>\n",
       "      <td>...</td>\n",
       "      <td>6230</td>\n",
       "      <td>6620</td>\n",
       "      <td>7020</td>\n",
       "      <td>7460</td>\n",
       "      <td>7920</td>\n",
       "      <td>8450</td>\n",
       "      <td>9150</td>\n",
       "      <td>9530</td>\n",
       "      <td>9930</td>\n",
       "      <td>10200</td>\n",
       "    </tr>\n",
       "    <tr>\n",
       "      <th>2</th>\n",
       "      <td>Algeria</td>\n",
       "      <td>71</td>\n",
       "      <td>71.4</td>\n",
       "      <td>71.7</td>\n",
       "      <td>72</td>\n",
       "      <td>72.1</td>\n",
       "      <td>72.3</td>\n",
       "      <td>72.8</td>\n",
       "      <td>73</td>\n",
       "      <td>73.1</td>\n",
       "      <td>...</td>\n",
       "      <td>10800</td>\n",
       "      <td>11500</td>\n",
       "      <td>11800</td>\n",
       "      <td>12300</td>\n",
       "      <td>12300</td>\n",
       "      <td>12600</td>\n",
       "      <td>12700</td>\n",
       "      <td>12600</td>\n",
       "      <td>12900</td>\n",
       "      <td>13000</td>\n",
       "    </tr>\n",
       "    <tr>\n",
       "      <th>3</th>\n",
       "      <td>Angola</td>\n",
       "      <td>50.2</td>\n",
       "      <td>50.8</td>\n",
       "      <td>51</td>\n",
       "      <td>49.7</td>\n",
       "      <td>51.1</td>\n",
       "      <td>52</td>\n",
       "      <td>52.3</td>\n",
       "      <td>52.7</td>\n",
       "      <td>52.8</td>\n",
       "      <td>...</td>\n",
       "      <td>3180</td>\n",
       "      <td>3240</td>\n",
       "      <td>3460</td>\n",
       "      <td>3950</td>\n",
       "      <td>4600</td>\n",
       "      <td>5440</td>\n",
       "      <td>5980</td>\n",
       "      <td>5910</td>\n",
       "      <td>5900</td>\n",
       "      <td>5910</td>\n",
       "    </tr>\n",
       "    <tr>\n",
       "      <th>4</th>\n",
       "      <td>Argentina</td>\n",
       "      <td>72.1</td>\n",
       "      <td>72.3</td>\n",
       "      <td>72.5</td>\n",
       "      <td>72.7</td>\n",
       "      <td>73</td>\n",
       "      <td>73.1</td>\n",
       "      <td>73.3</td>\n",
       "      <td>73.5</td>\n",
       "      <td>73.7</td>\n",
       "      <td>...</td>\n",
       "      <td>12400</td>\n",
       "      <td>13400</td>\n",
       "      <td>14400</td>\n",
       "      <td>15500</td>\n",
       "      <td>16600</td>\n",
       "      <td>17900</td>\n",
       "      <td>18400</td>\n",
       "      <td>17200</td>\n",
       "      <td>18700</td>\n",
       "      <td>19600</td>\n",
       "    </tr>\n",
       "  </tbody>\n",
       "</table>\n",
       "<p>5 rows × 138 columns</p>\n",
       "</div>"
      ],
      "text/plain": [
       "      geo_life 1990_life 1991_life 1992_life 1993_life 1994_life 1995_life  \\\n",
       "0  Afghanistan      51.6      51.3      51.4      51.4      50.7      51.1   \n",
       "1      Albania      73.9      73.9      73.9      73.9        74      74.1   \n",
       "2      Algeria        71      71.4      71.7        72      72.1      72.3   \n",
       "3       Angola      50.2      50.8        51      49.7      51.1        52   \n",
       "4    Argentina      72.1      72.3      72.5      72.7        73      73.1   \n",
       "\n",
       "  1996_life 1997_life 1998_life     ...     2002_income 2003_income  \\\n",
       "0      51.4      51.1      50.1     ...            1060        1100   \n",
       "1      74.3      72.5      74.3     ...            6230        6620   \n",
       "2      72.8        73      73.1     ...           10800       11500   \n",
       "3      52.3      52.7      52.8     ...            3180        3240   \n",
       "4      73.3      73.5      73.7     ...           12400       13400   \n",
       "\n",
       "  2004_income 2005_income 2006_income 2007_income 2008_income 2009_income  \\\n",
       "0        1060        1140        1160        1290        1300        1530   \n",
       "1        7020        7460        7920        8450        9150        9530   \n",
       "2       11800       12300       12300       12600       12700       12600   \n",
       "3        3460        3950        4600        5440        5980        5910   \n",
       "4       14400       15500       16600       17900       18400       17200   \n",
       "\n",
       "  2010_income 2011_income  \n",
       "0        1610        1660  \n",
       "1        9930       10200  \n",
       "2       12900       13000  \n",
       "3        5900        5910  \n",
       "4       18700       19600  \n",
       "\n",
       "[5 rows x 138 columns]"
      ]
     },
     "execution_count": 121,
     "metadata": {},
     "output_type": "execute_result"
    }
   ],
   "source": [
    "df_combined.head()"
   ]
  },
  {
   "cell_type": "markdown",
   "metadata": {},
   "source": [
    "### Remove null values\n",
    "\n",
    "First, by checking for missing values"
   ]
  },
  {
   "cell_type": "code",
   "execution_count": 122,
   "metadata": {
    "scrolled": true
   },
   "outputs": [
    {
     "data": {
      "text/plain": [
       "22"
      ]
     },
     "execution_count": 122,
     "metadata": {},
     "output_type": "execute_result"
    }
   ],
   "source": [
    "sum(df_combined.isnull().sum())"
   ]
  },
  {
   "cell_type": "markdown",
   "metadata": {},
   "source": [
    "Now, I only keep the rows without null values"
   ]
  },
  {
   "cell_type": "code",
   "execution_count": 124,
   "metadata": {},
   "outputs": [],
   "source": [
    "df_combined = df_combined.dropna()"
   ]
  },
  {
   "cell_type": "markdown",
   "metadata": {},
   "source": [
    "Now, all values are filled"
   ]
  },
  {
   "cell_type": "code",
   "execution_count": 125,
   "metadata": {},
   "outputs": [
    {
     "data": {
      "text/plain": [
       "0"
      ]
     },
     "execution_count": 125,
     "metadata": {},
     "output_type": "execute_result"
    }
   ],
   "source": [
    "sum(df_combined.isnull().sum())"
   ]
  },
  {
   "cell_type": "markdown",
   "metadata": {},
   "source": [
    "### Final column additions for change metrics\n",
    "\n",
    "These columns hold values for the changes per country in each metric from 2011 to 1990"
   ]
  },
  {
   "cell_type": "code",
   "execution_count": 126,
   "metadata": {},
   "outputs": [],
   "source": [
    "df_combined['life_change'] = df_combined['2011_life'] - df_combined['1990_life']\n",
    "df_combined['children_change'] = df_combined['2011_children'] - df_combined['1990_children']\n",
    "df_combined['hdi_change'] = df_combined['2011_hdi'] - df_combined['1990_hdi']\n",
    "df_combined['democracy_change'] = df_combined['2011_democracy'] - df_combined['1990_democracy']\n",
    "df_combined['co2_change'] = df_combined['2011_co2'] - df_combined['1990_co2']\n",
    "df_combined['income_change'] = df_combined['2011_income'] - df_combined['1990_income']"
   ]
  },
  {
   "cell_type": "code",
   "execution_count": 127,
   "metadata": {},
   "outputs": [
    {
     "data": {
      "text/html": [
       "<div>\n",
       "<style>\n",
       "    .dataframe thead tr:only-child th {\n",
       "        text-align: right;\n",
       "    }\n",
       "\n",
       "    .dataframe thead th {\n",
       "        text-align: left;\n",
       "    }\n",
       "\n",
       "    .dataframe tbody tr th {\n",
       "        vertical-align: top;\n",
       "    }\n",
       "</style>\n",
       "<table border=\"1\" class=\"dataframe\">\n",
       "  <thead>\n",
       "    <tr style=\"text-align: right;\">\n",
       "      <th></th>\n",
       "      <th>geo_life</th>\n",
       "      <th>1990_life</th>\n",
       "      <th>1991_life</th>\n",
       "      <th>1992_life</th>\n",
       "      <th>1993_life</th>\n",
       "      <th>1994_life</th>\n",
       "      <th>1995_life</th>\n",
       "      <th>1996_life</th>\n",
       "      <th>1997_life</th>\n",
       "      <th>1998_life</th>\n",
       "      <th>...</th>\n",
       "      <th>2008_income</th>\n",
       "      <th>2009_income</th>\n",
       "      <th>2010_income</th>\n",
       "      <th>2011_income</th>\n",
       "      <th>life_change</th>\n",
       "      <th>children_change</th>\n",
       "      <th>hdi_change</th>\n",
       "      <th>democracy_change</th>\n",
       "      <th>co2_change</th>\n",
       "      <th>income_change</th>\n",
       "    </tr>\n",
       "  </thead>\n",
       "  <tbody>\n",
       "    <tr>\n",
       "      <th>0</th>\n",
       "      <td>Afghanistan</td>\n",
       "      <td>51.6</td>\n",
       "      <td>51.3</td>\n",
       "      <td>51.4</td>\n",
       "      <td>51.4</td>\n",
       "      <td>50.7</td>\n",
       "      <td>51.1</td>\n",
       "      <td>51.4</td>\n",
       "      <td>51.1</td>\n",
       "      <td>50.1</td>\n",
       "      <td>...</td>\n",
       "      <td>1300</td>\n",
       "      <td>1530</td>\n",
       "      <td>1610</td>\n",
       "      <td>1660</td>\n",
       "      <td>5.1</td>\n",
       "      <td>-1.87</td>\n",
       "      <td>0.168</td>\n",
       "      <td>3.36364</td>\n",
       "      <td>0.199</td>\n",
       "      <td>620</td>\n",
       "    </tr>\n",
       "    <tr>\n",
       "      <th>1</th>\n",
       "      <td>Albania</td>\n",
       "      <td>73.9</td>\n",
       "      <td>73.9</td>\n",
       "      <td>73.9</td>\n",
       "      <td>73.9</td>\n",
       "      <td>74</td>\n",
       "      <td>74.1</td>\n",
       "      <td>74.3</td>\n",
       "      <td>72.5</td>\n",
       "      <td>74.3</td>\n",
       "      <td>...</td>\n",
       "      <td>9150</td>\n",
       "      <td>9530</td>\n",
       "      <td>9930</td>\n",
       "      <td>10200</td>\n",
       "      <td>2.8</td>\n",
       "      <td>-1.31</td>\n",
       "      <td>0.117</td>\n",
       "      <td>8</td>\n",
       "      <td>0.11</td>\n",
       "      <td>5640</td>\n",
       "    </tr>\n",
       "    <tr>\n",
       "      <th>2</th>\n",
       "      <td>Algeria</td>\n",
       "      <td>71</td>\n",
       "      <td>71.4</td>\n",
       "      <td>71.7</td>\n",
       "      <td>72</td>\n",
       "      <td>72.1</td>\n",
       "      <td>72.3</td>\n",
       "      <td>72.8</td>\n",
       "      <td>73</td>\n",
       "      <td>73.1</td>\n",
       "      <td>...</td>\n",
       "      <td>12700</td>\n",
       "      <td>12600</td>\n",
       "      <td>12900</td>\n",
       "      <td>13000</td>\n",
       "      <td>5.7</td>\n",
       "      <td>-1.8</td>\n",
       "      <td>0.155</td>\n",
       "      <td>4</td>\n",
       "      <td>0.32</td>\n",
       "      <td>2800</td>\n",
       "    </tr>\n",
       "    <tr>\n",
       "      <th>3</th>\n",
       "      <td>Angola</td>\n",
       "      <td>50.2</td>\n",
       "      <td>50.8</td>\n",
       "      <td>51</td>\n",
       "      <td>49.7</td>\n",
       "      <td>51.1</td>\n",
       "      <td>52</td>\n",
       "      <td>52.3</td>\n",
       "      <td>52.7</td>\n",
       "      <td>52.8</td>\n",
       "      <td>...</td>\n",
       "      <td>5980</td>\n",
       "      <td>5910</td>\n",
       "      <td>5900</td>\n",
       "      <td>5910</td>\n",
       "      <td>10.7</td>\n",
       "      <td>-1.17</td>\n",
       "      <td>0.0654615</td>\n",
       "      <td>5</td>\n",
       "      <td>0.83</td>\n",
       "      <td>1520</td>\n",
       "    </tr>\n",
       "    <tr>\n",
       "      <th>4</th>\n",
       "      <td>Argentina</td>\n",
       "      <td>72.1</td>\n",
       "      <td>72.3</td>\n",
       "      <td>72.5</td>\n",
       "      <td>72.7</td>\n",
       "      <td>73</td>\n",
       "      <td>73.1</td>\n",
       "      <td>73.3</td>\n",
       "      <td>73.5</td>\n",
       "      <td>73.7</td>\n",
       "      <td>...</td>\n",
       "      <td>18400</td>\n",
       "      <td>17200</td>\n",
       "      <td>18700</td>\n",
       "      <td>19600</td>\n",
       "      <td>3.9</td>\n",
       "      <td>-0.63</td>\n",
       "      <td>0.117</td>\n",
       "      <td>1</td>\n",
       "      <td>1.17</td>\n",
       "      <td>8800</td>\n",
       "    </tr>\n",
       "  </tbody>\n",
       "</table>\n",
       "<p>5 rows × 144 columns</p>\n",
       "</div>"
      ],
      "text/plain": [
       "      geo_life 1990_life 1991_life 1992_life 1993_life 1994_life 1995_life  \\\n",
       "0  Afghanistan      51.6      51.3      51.4      51.4      50.7      51.1   \n",
       "1      Albania      73.9      73.9      73.9      73.9        74      74.1   \n",
       "2      Algeria        71      71.4      71.7        72      72.1      72.3   \n",
       "3       Angola      50.2      50.8        51      49.7      51.1        52   \n",
       "4    Argentina      72.1      72.3      72.5      72.7        73      73.1   \n",
       "\n",
       "  1996_life 1997_life 1998_life      ...      2008_income 2009_income  \\\n",
       "0      51.4      51.1      50.1      ...             1300        1530   \n",
       "1      74.3      72.5      74.3      ...             9150        9530   \n",
       "2      72.8        73      73.1      ...            12700       12600   \n",
       "3      52.3      52.7      52.8      ...             5980        5910   \n",
       "4      73.3      73.5      73.7      ...            18400       17200   \n",
       "\n",
       "  2010_income 2011_income life_change children_change hdi_change  \\\n",
       "0        1610        1660         5.1           -1.87      0.168   \n",
       "1        9930       10200         2.8           -1.31      0.117   \n",
       "2       12900       13000         5.7            -1.8      0.155   \n",
       "3        5900        5910        10.7           -1.17  0.0654615   \n",
       "4       18700       19600         3.9           -0.63      0.117   \n",
       "\n",
       "  democracy_change co2_change income_change  \n",
       "0          3.36364      0.199           620  \n",
       "1                8       0.11          5640  \n",
       "2                4       0.32          2800  \n",
       "3                5       0.83          1520  \n",
       "4                1       1.17          8800  \n",
       "\n",
       "[5 rows x 144 columns]"
      ]
     },
     "execution_count": 127,
     "metadata": {},
     "output_type": "execute_result"
    }
   ],
   "source": [
    "df_combined.head(5)"
   ]
  },
  {
   "cell_type": "markdown",
   "metadata": {},
   "source": [
    "<a id='eda'></a>\n",
    "## Exploratory Data Analysis\n"
   ]
  },
  {
   "cell_type": "markdown",
   "metadata": {},
   "source": [
    "### Q1a: How is income distributed throughout the world?"
   ]
  },
  {
   "cell_type": "code",
   "execution_count": 128,
   "metadata": {
    "scrolled": false
   },
   "outputs": [
    {
     "data": {
      "image/png": "[encoded data removed]",
      "text/plain": [
       "<matplotlib.figure.Figure at 0x7f5f8da96be0>"
      ]
     },
     "metadata": {},
     "output_type": "display_data"
    }
   ],
   "source": [
    "df_combined['2011_income'].plot(kind='hist', title = '2011 Income');"
   ]
  },
  {
   "cell_type": "markdown",
   "metadata": {},
   "source": [
    "Income around the world is very highly right-skewed with roughly 100 of the 168 countries in our dataset having average incomes (GDP per capita) of around 10,000 dollars."
   ]
  },
  {
   "cell_type": "markdown",
   "metadata": {},
   "source": [
    "### Q1b: How are CO2 emissions distributed throughout the world?"
   ]
  },
  {
   "cell_type": "code",
   "execution_count": 129,
   "metadata": {
    "scrolled": true
   },
   "outputs": [
    {
     "data": {
      "image/png": "[encoded data removed]",
      "text/plain": [
       "<matplotlib.figure.Figure at 0x7f5f8c0784e0>"
      ]
     },
     "metadata": {},
     "output_type": "display_data"
    }
   ],
   "source": [
    "df_combined['2011_co2'].plot(kind='hist', title = '2011 CO2 Emissions');"
   ]
  },
  {
   "cell_type": "markdown",
   "metadata": {},
   "source": [
    "CO2 emissions per person in metric tons around the world is very highly right-skewed with roughly 100 of the 168 countries in our dataset emitting very little CO2."
   ]
  },
  {
   "cell_type": "markdown",
   "metadata": {},
   "source": [
    "### Q1c: How is HDI distributed throughout the world?"
   ]
  },
  {
   "cell_type": "code",
   "execution_count": 130,
   "metadata": {
    "scrolled": true
   },
   "outputs": [
    {
     "data": {
      "image/png": "[encoded data removed]",
      "text/plain": [
       "<matplotlib.figure.Figure at 0x7f5f8bcb0320>"
      ]
     },
     "metadata": {},
     "output_type": "display_data"
    }
   ],
   "source": [
    "df_combined['2011_hdi'].plot(kind='hist', title = '2011 HDI');"
   ]
  },
  {
   "cell_type": "markdown",
   "metadata": {},
   "source": [
    "HDI's distribution is slightly left-skewed but much more of a normal curve than both CO2 emissions and income"
   ]
  },
  {
   "cell_type": "markdown",
   "metadata": {},
   "source": [
    "### Q2: How does HDI relate to the other measures?"
   ]
  },
  {
   "cell_type": "code",
   "execution_count": 131,
   "metadata": {
    "scrolled": true
   },
   "outputs": [
    {
     "data": {
      "image/png": "[encoded data removed]",
      "text/plain": [
       "<matplotlib.figure.Figure at 0x7f5f8c5c7a58>"
      ]
     },
     "metadata": {},
     "output_type": "display_data"
    }
   ],
   "source": [
    "x1 = df_combined['2011_life']\n",
    "x2 = df_combined['2011_children']\n",
    "x3 = df_combined['2011_democracy']\n",
    "x4 = df_combined['2011_co2']\n",
    "x5 = df_combined['2011_income']\n",
    "\n",
    "y = df_combined['2011_hdi']\n",
    "\n",
    "plt.subplot(2,3,1)\n",
    "plt.scatter(x1,y)\n",
    "plt.xlabel('Life expectancy')\n",
    "plt.ylabel('HDI')\n",
    "\n",
    "plt.subplot(2,3,2)\n",
    "plt.scatter(x2,y)\n",
    "plt.xlabel('Children per mother')\n",
    "plt.ylabel('HDI')\n",
    "\n",
    "plt.subplot(2,3,3)\n",
    "plt.scatter(x3,y)\n",
    "plt.xlabel('Democracy')\n",
    "plt.ylabel('HDI')\n",
    "\n",
    "plt.subplot(2,3,4)\n",
    "plt.scatter(x4,y)\n",
    "plt.xlabel('CO2')\n",
    "plt.ylabel('HDI')\n",
    "\n",
    "plt.subplot(2,3,5)\n",
    "plt.scatter(x5,y)\n",
    "plt.ylabel('HDI')\n",
    "plt.xlabel('Income')\n",
    "\n",
    "plt.subplots_adjust(left=-1, bottom=None, right=None, top=None, wspace=0.5, hspace=0.5)\n",
    "\n",
    "plt.show;"
   ]
  },
  {
   "cell_type": "markdown",
   "metadata": {},
   "source": [
    "So, with an increase in life expectancy, we can expect a linear increase in HDI.  With an increase in children per mother, we can expect a linear decrease in HDI.  Democracy doesn't seem to be a good predictor of HDI.  With an increase in CO2 emissions, we can expect HDI to increase until metric tons of CO2 per person exceeds 10.  After that point, an increase in CO2 emissions per person no longer increases HDI.  Finally, income per person follows essentially the same curve CO2 emissions did where income seems to increase HDI until income reaches around $40k, at which point additional income doesn't seem to increase HDI."
   ]
  },
  {
   "cell_type": "markdown",
   "metadata": {},
   "source": [
    "### Q3: How does income relate to CO2 emissions per person?"
   ]
  },
  {
   "cell_type": "code",
   "execution_count": 132,
   "metadata": {
    "scrolled": true
   },
   "outputs": [
    {
     "data": {
      "image/png": "[encoded data removed]",
      "text/plain": [
       "<matplotlib.figure.Figure at 0x7f5f8cb6d9b0>"
      ]
     },
     "metadata": {},
     "output_type": "display_data"
    }
   ],
   "source": [
    "plt.scatter(df_combined['2011_co2'],df_combined['2011_income'])\n",
    "plt.xlabel('CO2')\n",
    "plt.ylabel('Income');"
   ]
  },
  {
   "cell_type": "markdown",
   "metadata": {},
   "source": [
    "Hence, we observe a positive linear relationship between income and CO2.  Income per person and CO2 emissions per person seem to be highly correlated."
   ]
  },
  {
   "cell_type": "markdown",
   "metadata": {},
   "source": [
    "### Q4: Are CO2 emissions per person generally increasing or decreasing from 1990 to 2011?"
   ]
  },
  {
   "cell_type": "code",
   "execution_count": 133,
   "metadata": {
    "scrolled": false
   },
   "outputs": [
    {
     "data": {
      "text/plain": [
       "0.27730151335896691"
      ]
     },
     "execution_count": 133,
     "metadata": {},
     "output_type": "execute_result"
    }
   ],
   "source": [
    "df_combined['co2_change'].mean()"
   ]
  },
  {
   "cell_type": "markdown",
   "metadata": {},
   "source": [
    "From 1990 to 2011, CO2 emissions have, in general, increased per country by 0.28 metric tonnes per person"
   ]
  },
  {
   "cell_type": "markdown",
   "metadata": {},
   "source": [
    "### Q5: Which country decreased their CO2 emissions per person the most from 1990 to 2011?"
   ]
  },
  {
   "cell_type": "code",
   "execution_count": 134,
   "metadata": {
    "scrolled": true
   },
   "outputs": [
    {
     "data": {
      "text/plain": [
       "geo_life      United Arab Emirates\n",
       "co2_change                    -8.9\n",
       "Name: 152, dtype: object"
      ]
     },
     "execution_count": 134,
     "metadata": {},
     "output_type": "execute_result"
    }
   ],
   "source": [
    "df_combined[['geo_life','co2_change']].loc[df_combined['co2_change'].idxmin()]"
   ]
  },
  {
   "cell_type": "markdown",
   "metadata": {},
   "source": [
    "### Q6: Which country increased their CO2 emissions per person the most from 1990 to 2011?"
   ]
  },
  {
   "cell_type": "code",
   "execution_count": 135,
   "metadata": {
    "scrolled": false
   },
   "outputs": [
    {
     "data": {
      "text/plain": [
       "geo_life      Trinidad and Tobago\n",
       "co2_change                   21.3\n",
       "Name: 146, dtype: object"
      ]
     },
     "execution_count": 135,
     "metadata": {},
     "output_type": "execute_result"
    }
   ],
   "source": [
    "df_combined[['geo_life','co2_change']].loc[df_combined['co2_change'].idxmax()]"
   ]
  },
  {
   "cell_type": "markdown",
   "metadata": {},
   "source": [
    "### Q7: Which country decreased their income per person the most from 1990 to 2011?"
   ]
  },
  {
   "cell_type": "code",
   "execution_count": 136,
   "metadata": {
    "scrolled": true
   },
   "outputs": [
    {
     "data": {
      "text/plain": [
       "geo_life         United Arab Emirates\n",
       "income_change                  -52600\n",
       "Name: 152, dtype: object"
      ]
     },
     "execution_count": 136,
     "metadata": {},
     "output_type": "execute_result"
    }
   ],
   "source": [
    "df_combined[['geo_life','income_change']].loc[df_combined['income_change'].idxmin()]"
   ]
  },
  {
   "cell_type": "markdown",
   "metadata": {},
   "source": [
    "### Q8: Which country increased their income per person the most from 1990 to 2011?"
   ]
  },
  {
   "cell_type": "code",
   "execution_count": 137,
   "metadata": {
    "scrolled": false
   },
   "outputs": [
    {
     "data": {
      "text/plain": [
       "geo_life         Qatar\n",
       "income_change    58200\n",
       "Name: 118, dtype: object"
      ]
     },
     "execution_count": 137,
     "metadata": {},
     "output_type": "execute_result"
    }
   ],
   "source": [
    "df_combined[['geo_life','income_change']].loc[df_combined['income_change'].idxmax()]"
   ]
  },
  {
   "cell_type": "markdown",
   "metadata": {},
   "source": [
    "### Q9: Which country decreased their HDI the most from 1990 to 2011?"
   ]
  },
  {
   "cell_type": "code",
   "execution_count": 138,
   "metadata": {
    "scrolled": true
   },
   "outputs": [
    {
     "data": {
      "text/plain": [
       "geo_life      Zimbabwe\n",
       "hdi_change      -0.035\n",
       "Name: 161, dtype: object"
      ]
     },
     "execution_count": 138,
     "metadata": {},
     "output_type": "execute_result"
    }
   ],
   "source": [
    "df_combined[['geo_life','hdi_change']].loc[df_combined['hdi_change'].idxmin()]"
   ]
  },
  {
   "cell_type": "markdown",
   "metadata": {},
   "source": [
    "### Q10: Which country increased their HDI the most from 1990 to 2011?"
   ]
  },
  {
   "cell_type": "code",
   "execution_count": 139,
   "metadata": {
    "scrolled": false
   },
   "outputs": [
    {
     "data": {
      "text/plain": [
       "geo_life      Rwanda\n",
       "hdi_change     0.231\n",
       "Name: 121, dtype: object"
      ]
     },
     "execution_count": 139,
     "metadata": {},
     "output_type": "execute_result"
    }
   ],
   "source": [
    "df_combined[['geo_life','hdi_change']].loc[df_combined['hdi_change'].idxmax()]"
   ]
  },
  {
   "cell_type": "markdown",
   "metadata": {},
   "source": [
    "<a id='conclusions'></a>\n",
    "## Conclusions\n",
    "\n",
    "In sum, we notice a few major findings:\n",
    "\n",
    "1.  Income across the world is highly right-skewed.  The vast majority of the world earns very little.\n",
    "2.  CO2 emissions per person follow the same distribution as income with most countries emitting very little CO2 while a few countries emit a lot.\n",
    "3.  CO2 emissions appear to linearly correlate with income, and income appears to be the best linear relation to CO2 emissions.\n",
    "4.  HDI increases initially as income increases, but HDI no longer increases after income increases over $40k or so.  Hence, this seems to show that HDI increases exponentially as people's needs are met, but perhaps not as much as their additional wants are met.\n",
    "5.  Overall, CO2 emissions per country increased by 0.28 metric tons per person from 1990 to 2011."
   ]
  },
  {
   "cell_type": "code",
   "execution_count": 141,
   "metadata": {},
   "outputs": [
    {
     "data": {
      "text/plain": [
       "0"
      ]
     },
     "execution_count": 141,
     "metadata": {},
     "output_type": "execute_result"
    }
   ],
   "source": [
    "from subprocess import call\n",
    "call(['python', '-m', 'nbconvert', 'Investigate_a_Dataset.ipynb'])"
   ]
  },
  {
   "cell_type": "code",
   "execution_count": null,
   "metadata": {},
   "outputs": [],
   "source": []
  }
 ],
 "metadata": {
  "kernelspec": {
   "display_name": "Python 3",
   "language": "python",
   "name": "python3"
  },
  "language_info": {
   "codemirror_mode": {
    "name": "ipython",
    "version": 3
   },
   "file_extension": ".py",
   "mimetype": "text/x-python",
   "name": "python",
   "nbconvert_exporter": "python",
   "pygments_lexer": "ipython3",
   "version": "3.6.3"
  }
 },
 "nbformat": 4,
 "nbformat_minor": 2
}
